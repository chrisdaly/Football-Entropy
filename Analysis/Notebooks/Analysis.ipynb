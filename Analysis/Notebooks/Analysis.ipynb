{
 "cells": [
  {
   "cell_type": "markdown",
   "metadata": {},
   "source": [
    "# Analyzing the Predictability of European Football Leagues\n",
    "\n",
    "## Introduction\n",
    "Over the past few decades football has been criticsed for being too predictable. The elite clubs in europe continue to increase their revenues year after year and thus can spend small fortunes on lesser clubs' best players. This is perhaps most apparent in Germany where Bayern Munich have a monopoly-like claim on any young promising German player. The result has been 7 winners medals in the past decade.\n",
    "\n",
    "However, the 2015/2016 season has had many unexpected outcomes in soccer. Leicster, having finished the previous season in 14th place went on to win the English Premier league at 5000/1 odds. Similarly, in Euro 2016 Iceland, a country with a population of only 300,000, beat England in the knockout stages and Wales made it all the way to the semi-finals.\n",
    "\n",
    "This notebook will attempt to quantify the top 5 European league's predictability by utilizing bookmakers odds for each match. The idea is that if there are consistently large favourites in games throughout the season then the league is considered predictable. The goal here is to find the most unpredictable league which should then also be the most competitive and interesting one to watch."
   ]
  },
  {
   "cell_type": "markdown",
   "metadata": {},
   "source": [
    "## Libraries"
   ]
  },
  {
   "cell_type": "code",
   "execution_count": 4,
   "metadata": {
    "collapsed": true
   },
   "outputs": [],
   "source": [
    "import numpy as np\n",
    "import matplotlib.pyplot as plt\n",
    "import seaborn as sns\n",
    "import pandas as pd\n",
    "import sqlite3\n",
    "import numpy as np\n",
    "\n",
    "from numpy import random\n",
    "from scipy.stats import entropy\n",
    "from matplotlib.lines import Line2D\n",
    "\n",
    "sns.set(style=\"whitegrid\")\n",
    "%matplotlib inline"
   ]
  },
  {
   "cell_type": "markdown",
   "metadata": {},
   "source": [
    "## Custom plot parameters"
   ]
  },
  {
   "cell_type": "code",
   "execution_count": 5,
   "metadata": {
    "collapsed": false
   },
   "outputs": [],
   "source": [
    "rcParams['figure.figsize'] = (10, 6)\n",
    "rcParams['figure.dpi'] = 150\n",
    "rcParams['lines.linewidth'] = 2\n",
    "rcParams['axes.facecolor'] = 'white'\n",
    "rcParams['font.size'] = 14\n",
    "rcParams['patch.edgecolor'] = 'white'\n",
    "rcParams['font.family'] = 'StixGeneral'\n",
    "rcParams['axes.grid'] = True"
   ]
  },
  {
   "cell_type": "markdown",
   "metadata": {},
   "source": [
    "## Loading the data\n",
    "The data used in this notebook is taken from Kaggle’s European Soccer database, which spans across 8 years from 2008 to 2016 and includes many teams and matches statistics. A codebook for the variables can be found [here](http://football-data.co.uk/notes.txt)."
   ]
  },
  {
   "cell_type": "code",
   "execution_count": 6,
   "metadata": {
    "collapsed": false
   },
   "outputs": [],
   "source": [
    "# Load data using SQL.\n",
    "with sqlite3.connect('../Data/database.sqlite') as con:\n",
    "    countries = pd.read_sql_query(\"SELECT * from Country\", con)\n",
    "    matches = pd.read_sql_query(\"SELECT * from Match\", con)\n",
    "    leagues = pd.read_sql_query(\"SELECT * from League\", con)\n",
    "    teams = pd.read_sql_query(\"SELECT * from Team\", con)"
   ]
  },
  {
   "cell_type": "code",
   "execution_count": 7,
   "metadata": {
    "collapsed": false
   },
   "outputs": [
    {
     "data": {
      "text/html": [
       "<div style=\"max-height:1000px;max-width:1500px;overflow:auto;\">\n",
       "<table border=\"1\" class=\"dataframe\">\n",
       "  <thead>\n",
       "    <tr style=\"text-align: right;\">\n",
       "      <th></th>\n",
       "      <th>id</th>\n",
       "      <th>name</th>\n",
       "    </tr>\n",
       "  </thead>\n",
       "  <tbody>\n",
       "    <tr>\n",
       "      <th>0</th>\n",
       "      <td>    1</td>\n",
       "      <td> Belgium</td>\n",
       "    </tr>\n",
       "    <tr>\n",
       "      <th>1</th>\n",
       "      <td> 1729</td>\n",
       "      <td> England</td>\n",
       "    </tr>\n",
       "  </tbody>\n",
       "</table>\n",
       "</div>"
      ],
      "text/plain": [
       "     id     name\n",
       "0     1  Belgium\n",
       "1  1729  England"
      ]
     },
     "execution_count": 7,
     "metadata": {},
     "output_type": "execute_result"
    }
   ],
   "source": [
    "countries.head(2)"
   ]
  },
  {
   "cell_type": "code",
   "execution_count": 8,
   "metadata": {
    "collapsed": false
   },
   "outputs": [
    {
     "data": {
      "text/html": [
       "<div style=\"max-height:1000px;max-width:1500px;overflow:auto;\">\n",
       "<table border=\"1\" class=\"dataframe\">\n",
       "  <thead>\n",
       "    <tr style=\"text-align: right;\">\n",
       "      <th></th>\n",
       "      <th>id</th>\n",
       "      <th>country_id</th>\n",
       "      <th>league_id</th>\n",
       "      <th>season</th>\n",
       "      <th>stage</th>\n",
       "      <th>date</th>\n",
       "      <th>match_api_id</th>\n",
       "      <th>home_team_api_id</th>\n",
       "      <th>away_team_api_id</th>\n",
       "      <th>home_team_goal</th>\n",
       "      <th>...</th>\n",
       "      <th>SJA</th>\n",
       "      <th>VCH</th>\n",
       "      <th>VCD</th>\n",
       "      <th>VCA</th>\n",
       "      <th>GBH</th>\n",
       "      <th>GBD</th>\n",
       "      <th>GBA</th>\n",
       "      <th>BSH</th>\n",
       "      <th>BSD</th>\n",
       "      <th>BSA</th>\n",
       "    </tr>\n",
       "  </thead>\n",
       "  <tbody>\n",
       "    <tr>\n",
       "      <th>0</th>\n",
       "      <td> 1</td>\n",
       "      <td> 1</td>\n",
       "      <td> 1</td>\n",
       "      <td> 2008/2009</td>\n",
       "      <td> 1</td>\n",
       "      <td> 2008-08-17 00:00:00</td>\n",
       "      <td> 492473</td>\n",
       "      <td>  9987</td>\n",
       "      <td> 9993</td>\n",
       "      <td> 1</td>\n",
       "      <td>...</td>\n",
       "      <td> 4.0</td>\n",
       "      <td> 1.65</td>\n",
       "      <td> 3.40</td>\n",
       "      <td> 4.50</td>\n",
       "      <td> 1.78</td>\n",
       "      <td> 3.25</td>\n",
       "      <td> 4.00</td>\n",
       "      <td> 1.73</td>\n",
       "      <td> 3.40</td>\n",
       "      <td> 4.2</td>\n",
       "    </tr>\n",
       "    <tr>\n",
       "      <th>1</th>\n",
       "      <td> 2</td>\n",
       "      <td> 1</td>\n",
       "      <td> 1</td>\n",
       "      <td> 2008/2009</td>\n",
       "      <td> 1</td>\n",
       "      <td> 2008-08-16 00:00:00</td>\n",
       "      <td> 492474</td>\n",
       "      <td> 10000</td>\n",
       "      <td> 9994</td>\n",
       "      <td> 0</td>\n",
       "      <td>...</td>\n",
       "      <td> 3.8</td>\n",
       "      <td> 2.00</td>\n",
       "      <td> 3.25</td>\n",
       "      <td> 3.25</td>\n",
       "      <td> 1.85</td>\n",
       "      <td> 3.25</td>\n",
       "      <td> 3.75</td>\n",
       "      <td> 1.91</td>\n",
       "      <td> 3.25</td>\n",
       "      <td> 3.6</td>\n",
       "    </tr>\n",
       "  </tbody>\n",
       "</table>\n",
       "<p>2 rows × 115 columns</p>\n",
       "</div>"
      ],
      "text/plain": [
       "   id  country_id  league_id     season  stage                 date  \\\n",
       "0   1           1          1  2008/2009      1  2008-08-17 00:00:00   \n",
       "1   2           1          1  2008/2009      1  2008-08-16 00:00:00   \n",
       "\n",
       "   match_api_id  home_team_api_id  away_team_api_id  home_team_goal ...   SJA  \\\n",
       "0        492473              9987              9993               1 ...   4.0   \n",
       "1        492474             10000              9994               0 ...   3.8   \n",
       "\n",
       "    VCH   VCD   VCA   GBH   GBD   GBA   BSH   BSD  BSA  \n",
       "0  1.65  3.40  4.50  1.78  3.25  4.00  1.73  3.40  4.2  \n",
       "1  2.00  3.25  3.25  1.85  3.25  3.75  1.91  3.25  3.6  \n",
       "\n",
       "[2 rows x 115 columns]"
      ]
     },
     "execution_count": 8,
     "metadata": {},
     "output_type": "execute_result"
    }
   ],
   "source": [
    "matches.head(2)"
   ]
  },
  {
   "cell_type": "code",
   "execution_count": 9,
   "metadata": {
    "collapsed": false
   },
   "outputs": [
    {
     "data": {
      "text/html": [
       "<div style=\"max-height:1000px;max-width:1500px;overflow:auto;\">\n",
       "<table border=\"1\" class=\"dataframe\">\n",
       "  <thead>\n",
       "    <tr style=\"text-align: right;\">\n",
       "      <th></th>\n",
       "      <th>id</th>\n",
       "      <th>country_id</th>\n",
       "      <th>name</th>\n",
       "    </tr>\n",
       "  </thead>\n",
       "  <tbody>\n",
       "    <tr>\n",
       "      <th>0</th>\n",
       "      <td>    1</td>\n",
       "      <td>    1</td>\n",
       "      <td> Belgium Jupiler League</td>\n",
       "    </tr>\n",
       "    <tr>\n",
       "      <th>1</th>\n",
       "      <td> 1729</td>\n",
       "      <td> 1729</td>\n",
       "      <td> England Premier League</td>\n",
       "    </tr>\n",
       "  </tbody>\n",
       "</table>\n",
       "</div>"
      ],
      "text/plain": [
       "     id  country_id                    name\n",
       "0     1           1  Belgium Jupiler League\n",
       "1  1729        1729  England Premier League"
      ]
     },
     "execution_count": 9,
     "metadata": {},
     "output_type": "execute_result"
    }
   ],
   "source": [
    "leagues.head(2)"
   ]
  },
  {
   "cell_type": "code",
   "execution_count": 10,
   "metadata": {
    "collapsed": false
   },
   "outputs": [
    {
     "data": {
      "text/html": [
       "<div style=\"max-height:1000px;max-width:1500px;overflow:auto;\">\n",
       "<table border=\"1\" class=\"dataframe\">\n",
       "  <thead>\n",
       "    <tr style=\"text-align: right;\">\n",
       "      <th></th>\n",
       "      <th>id</th>\n",
       "      <th>team_api_id</th>\n",
       "      <th>team_long_name</th>\n",
       "      <th>team_short_name</th>\n",
       "    </tr>\n",
       "  </thead>\n",
       "  <tbody>\n",
       "    <tr>\n",
       "      <th>0</th>\n",
       "      <td> 1</td>\n",
       "      <td> 9987</td>\n",
       "      <td>         Genk</td>\n",
       "      <td> GEN</td>\n",
       "    </tr>\n",
       "    <tr>\n",
       "      <th>1</th>\n",
       "      <td> 2</td>\n",
       "      <td> 9993</td>\n",
       "      <td> Beerschot AC</td>\n",
       "      <td> BAC</td>\n",
       "    </tr>\n",
       "  </tbody>\n",
       "</table>\n",
       "</div>"
      ],
      "text/plain": [
       "   id  team_api_id team_long_name team_short_name\n",
       "0   1         9987           Genk             GEN\n",
       "1   2         9993   Beerschot AC             BAC"
      ]
     },
     "execution_count": 10,
     "metadata": {},
     "output_type": "execute_result"
    }
   ],
   "source": [
    "teams.head(2)"
   ]
  },
  {
   "cell_type": "markdown",
   "metadata": {},
   "source": [
    "## Data wrangling"
   ]
  },
  {
   "cell_type": "code",
   "execution_count": 11,
   "metadata": {
    "collapsed": false
   },
   "outputs": [
    {
     "data": {
      "text/html": [
       "<div style=\"max-height:1000px;max-width:1500px;overflow:auto;\">\n",
       "<table border=\"1\" class=\"dataframe\">\n",
       "  <thead>\n",
       "    <tr style=\"text-align: right;\">\n",
       "      <th></th>\n",
       "      <th>id</th>\n",
       "      <th>name</th>\n",
       "    </tr>\n",
       "  </thead>\n",
       "  <tbody>\n",
       "    <tr>\n",
       "      <th>1</th>\n",
       "      <td>  1729</td>\n",
       "      <td> England</td>\n",
       "    </tr>\n",
       "    <tr>\n",
       "      <th>2</th>\n",
       "      <td>  4735</td>\n",
       "      <td>  France</td>\n",
       "    </tr>\n",
       "    <tr>\n",
       "      <th>3</th>\n",
       "      <td>  7775</td>\n",
       "      <td> Germany</td>\n",
       "    </tr>\n",
       "    <tr>\n",
       "      <th>4</th>\n",
       "      <td> 10223</td>\n",
       "      <td>   Italy</td>\n",
       "    </tr>\n",
       "    <tr>\n",
       "      <th>9</th>\n",
       "      <td> 21484</td>\n",
       "      <td>   Spain</td>\n",
       "    </tr>\n",
       "  </tbody>\n",
       "</table>\n",
       "</div>"
      ],
      "text/plain": [
       "      id     name\n",
       "1   1729  England\n",
       "2   4735   France\n",
       "3   7775  Germany\n",
       "4  10223    Italy\n",
       "9  21484    Spain"
      ]
     },
     "execution_count": 11,
     "metadata": {},
     "output_type": "execute_result"
    }
   ],
   "source": [
    "# Subset on relevant countries.\n",
    "selected_countries = ['England', 'France', 'Germany', 'Italy', 'Spain']\n",
    "countries = countries[countries.name.isin(selected_countries)]\n",
    "\n",
    "countries"
   ]
  },
  {
   "cell_type": "code",
   "execution_count": 12,
   "metadata": {
    "collapsed": false
   },
   "outputs": [
    {
     "data": {
      "text/html": [
       "<div style=\"max-height:1000px;max-width:1500px;overflow:auto;\">\n",
       "<table border=\"1\" class=\"dataframe\">\n",
       "  <thead>\n",
       "    <tr style=\"text-align: right;\">\n",
       "      <th></th>\n",
       "      <th>id</th>\n",
       "      <th>name</th>\n",
       "      <th>country_id</th>\n",
       "      <th>name_y</th>\n",
       "    </tr>\n",
       "  </thead>\n",
       "  <tbody>\n",
       "    <tr>\n",
       "      <th>0</th>\n",
       "      <td>  1729</td>\n",
       "      <td> England</td>\n",
       "      <td>  1729</td>\n",
       "      <td> England Premier League</td>\n",
       "    </tr>\n",
       "    <tr>\n",
       "      <th>1</th>\n",
       "      <td>  4735</td>\n",
       "      <td>  France</td>\n",
       "      <td>  4735</td>\n",
       "      <td>         France Ligue 1</td>\n",
       "    </tr>\n",
       "    <tr>\n",
       "      <th>2</th>\n",
       "      <td>  7775</td>\n",
       "      <td> Germany</td>\n",
       "      <td>  7775</td>\n",
       "      <td>  Germany 1. Bundesliga</td>\n",
       "    </tr>\n",
       "    <tr>\n",
       "      <th>3</th>\n",
       "      <td> 10223</td>\n",
       "      <td>   Italy</td>\n",
       "      <td> 10223</td>\n",
       "      <td>          Italy Serie A</td>\n",
       "    </tr>\n",
       "    <tr>\n",
       "      <th>4</th>\n",
       "      <td> 21484</td>\n",
       "      <td>   Spain</td>\n",
       "      <td> 21484</td>\n",
       "      <td>        Spain LIGA BBVA</td>\n",
       "    </tr>\n",
       "  </tbody>\n",
       "</table>\n",
       "</div>"
      ],
      "text/plain": [
       "      id     name  country_id                  name_y\n",
       "0   1729  England        1729  England Premier League\n",
       "1   4735   France        4735          France Ligue 1\n",
       "2   7775  Germany        7775   Germany 1. Bundesliga\n",
       "3  10223    Italy       10223           Italy Serie A\n",
       "4  21484    Spain       21484         Spain LIGA BBVA"
      ]
     },
     "execution_count": 12,
     "metadata": {},
     "output_type": "execute_result"
    }
   ],
   "source": [
    "# Merge countries and leagues.\n",
    "leagues = countries.merge(leagues, on='id', suffixes=('', '_y'))\n",
    "\n",
    "leagues"
   ]
  },
  {
   "cell_type": "code",
   "execution_count": 13,
   "metadata": {
    "collapsed": false
   },
   "outputs": [],
   "source": [
    "# Subset matches on relevant leagues.\n",
    "matches = matches[matches.league_id.isin(leagues.id)]"
   ]
  },
  {
   "cell_type": "code",
   "execution_count": 14,
   "metadata": {
    "collapsed": false
   },
   "outputs": [
    {
     "data": {
      "text/plain": [
       "array(['id', 'country_id', 'league_id', 'season', 'stage', 'date',\n",
       "       'match_api_id', 'home_team_api_id', 'away_team_api_id',\n",
       "       'home_team_goal', 'away_team_goal', 'home_player_X1',\n",
       "       'home_player_X2', 'home_player_X3', 'home_player_X4',\n",
       "       'home_player_X5', 'home_player_X6', 'home_player_X7',\n",
       "       'home_player_X8', 'home_player_X9', 'home_player_X10',\n",
       "       'home_player_X11', 'away_player_X1', 'away_player_X2',\n",
       "       'away_player_X3', 'away_player_X4', 'away_player_X5',\n",
       "       'away_player_X6', 'away_player_X7', 'away_player_X8',\n",
       "       'away_player_X9', 'away_player_X10', 'away_player_X11',\n",
       "       'home_player_Y1', 'home_player_Y2', 'home_player_Y3',\n",
       "       'home_player_Y4', 'home_player_Y5', 'home_player_Y6',\n",
       "       'home_player_Y7', 'home_player_Y8', 'home_player_Y9',\n",
       "       'home_player_Y10', 'home_player_Y11', 'away_player_Y1',\n",
       "       'away_player_Y2', 'away_player_Y3', 'away_player_Y4',\n",
       "       'away_player_Y5', 'away_player_Y6', 'away_player_Y7',\n",
       "       'away_player_Y8', 'away_player_Y9', 'away_player_Y10',\n",
       "       'away_player_Y11', 'home_player_1', 'home_player_2',\n",
       "       'home_player_3', 'home_player_4', 'home_player_5', 'home_player_6',\n",
       "       'home_player_7', 'home_player_8', 'home_player_9', 'home_player_10',\n",
       "       'home_player_11', 'away_player_1', 'away_player_2', 'away_player_3',\n",
       "       'away_player_4', 'away_player_5', 'away_player_6', 'away_player_7',\n",
       "       'away_player_8', 'away_player_9', 'away_player_10',\n",
       "       'away_player_11', 'goal', 'shoton', 'shotoff', 'foulcommit', 'card',\n",
       "       'cross', 'corner', 'possession', 'B365H', 'B365D', 'B365A', 'BWH',\n",
       "       'BWD', 'BWA', 'IWH', 'IWD', 'IWA', 'LBH', 'LBD', 'LBA', 'PSH',\n",
       "       'PSD', 'PSA', 'WHH', 'WHD', 'WHA', 'SJH', 'SJD', 'SJA', 'VCH',\n",
       "       'VCD', 'VCA', 'GBH', 'GBD', 'GBA', 'BSH', 'BSD', 'BSA'], dtype=object)"
      ]
     },
     "execution_count": 14,
     "metadata": {},
     "output_type": "execute_result"
    }
   ],
   "source": [
    "# Checking all columns.\n",
    "matches.columns.values"
   ]
  },
  {
   "cell_type": "markdown",
   "metadata": {},
   "source": [
    "This notebook uses bet365 as the booker whos odds are used in calculations. These probabilities should reflect the objective chance for each game outcome."
   ]
  },
  {
   "cell_type": "code",
   "execution_count": 39,
   "metadata": {
    "collapsed": false
   },
   "outputs": [
    {
     "data": {
      "text/html": [
       "<div style=\"max-height:1000px;max-width:1500px;overflow:auto;\">\n",
       "<table border=\"1\" class=\"dataframe\">\n",
       "  <thead>\n",
       "    <tr style=\"text-align: right;\">\n",
       "      <th></th>\n",
       "      <th>id</th>\n",
       "      <th>country_id</th>\n",
       "      <th>league_id</th>\n",
       "      <th>season</th>\n",
       "      <th>stage</th>\n",
       "      <th>date</th>\n",
       "      <th>match_api_id</th>\n",
       "      <th>home_team_api_id</th>\n",
       "      <th>away_team_api_id</th>\n",
       "      <th>B365H</th>\n",
       "      <th>B365D</th>\n",
       "      <th>B365A</th>\n",
       "    </tr>\n",
       "  </thead>\n",
       "  <tbody>\n",
       "    <tr>\n",
       "      <th>1728</th>\n",
       "      <td> 1729</td>\n",
       "      <td> 1729</td>\n",
       "      <td> 1729</td>\n",
       "      <td> 2008/2009</td>\n",
       "      <td> 1</td>\n",
       "      <td> 2008-08-17 00:00:00</td>\n",
       "      <td> 489042</td>\n",
       "      <td> 10260</td>\n",
       "      <td> 10261</td>\n",
       "      <td> 1.29</td>\n",
       "      <td> 5.5</td>\n",
       "      <td> 11.00</td>\n",
       "    </tr>\n",
       "    <tr>\n",
       "      <th>1730</th>\n",
       "      <td> 1731</td>\n",
       "      <td> 1729</td>\n",
       "      <td> 1729</td>\n",
       "      <td> 2008/2009</td>\n",
       "      <td> 1</td>\n",
       "      <td> 2008-08-16 00:00:00</td>\n",
       "      <td> 489044</td>\n",
       "      <td>  8472</td>\n",
       "      <td>  8650</td>\n",
       "      <td> 5.50</td>\n",
       "      <td> 3.6</td>\n",
       "      <td>  1.67</td>\n",
       "    </tr>\n",
       "  </tbody>\n",
       "</table>\n",
       "</div>"
      ],
      "text/plain": [
       "        id  country_id  league_id     season  stage                 date  \\\n",
       "1728  1729        1729       1729  2008/2009      1  2008-08-17 00:00:00   \n",
       "1730  1731        1729       1729  2008/2009      1  2008-08-16 00:00:00   \n",
       "\n",
       "      match_api_id  home_team_api_id  away_team_api_id  B365H  B365D  B365A  \n",
       "1728        489042             10260             10261   1.29    5.5  11.00  \n",
       "1730        489044              8472              8650   5.50    3.6   1.67  "
      ]
     },
     "execution_count": 39,
     "metadata": {},
     "output_type": "execute_result"
    }
   ],
   "source": [
    "# Subset on releveant fields.\n",
    "matches = matches[['id', 'country_id' ,'league_id', 'season', 'stage', 'date','match_api_id', \n",
    "                   'home_team_api_id', 'away_team_api_id','B365H', 'B365D' ,'B365A']]\n",
    "\n",
    "# Drop any null rows.\n",
    "matches.dropna(inplace=True)\n",
    "\n",
    "matches.head(2)"
   ]
  },
  {
   "cell_type": "markdown",
   "metadata": {},
   "source": [
    "## Entropy\n",
    "In Information Theory, [entropy](https://en.wikipedia.org/wiki/Entropy_(information_theory) is a measurement for uncertainty for an event’s outcome. In this case, the event is a football match and there are three possible outcomes: a win for the home team, a win for the away team or a draw. If the three outcomes are equally probable, the uncertainty is maximal and so is the entropy (log(3)=1.584963). As the probability of a particular outcome will get closer to one - almost no uncertainty - the match entropy will approach zero. In summary, the entropy of a football game outcome is bounded by 0 and 1.59, where 0 is total predictability.\n"
   ]
  },
  {
   "cell_type": "code",
   "execution_count": 16,
   "metadata": {
    "collapsed": true
   },
   "outputs": [],
   "source": [
    "def match_entropy(row):\n",
    "    \"\"\"\n",
    "    Takes a row from the matches df, transforms the odds into normalized\n",
    "    probabilities. Returns the entropy of these probabilities.\n",
    "    \"\"\"\n",
    "\n",
    "    # Select the odds for home, draw, away.\n",
    "    odds = [row['B365H'], row['B365D'], row['B365A']]\n",
    "\n",
    "    # Take the inverse to change decimal odds to probability.\n",
    "    probs = [1/o for o in odds]\n",
    "\n",
    "    # Get the sum of probabilities.\n",
    "    norm = sum(probs)\n",
    "\n",
    "    # Normalize the probalities.\n",
    "    # (Accounts for bookies using \"overround\").\n",
    "    probs = [p/norm for p in probs]\n",
    "\n",
    "    # Take the entropy of the normalized probabilities.\n",
    "    result = entropy(probs)\n",
    "    \n",
    "    return result"
   ]
  },
  {
   "cell_type": "code",
   "execution_count": 41,
   "metadata": {
    "collapsed": true
   },
   "outputs": [],
   "source": [
    "# Compute entropy for every match\n",
    "matches['entropy'] = matches.apply(match_entropy, axis=1)"
   ]
  },
  {
   "cell_type": "code",
   "execution_count": 42,
   "metadata": {
    "collapsed": false
   },
   "outputs": [
    {
     "data": {
      "text/html": [
       "<div style=\"max-height:1000px;max-width:1500px;overflow:auto;\">\n",
       "<table border=\"1\" class=\"dataframe\">\n",
       "  <thead>\n",
       "    <tr style=\"text-align: right;\">\n",
       "      <th></th>\n",
       "      <th>id</th>\n",
       "      <th>country_id</th>\n",
       "      <th>league_id</th>\n",
       "      <th>season</th>\n",
       "      <th>stage</th>\n",
       "      <th>date</th>\n",
       "      <th>match_api_id</th>\n",
       "      <th>home_team_api_id</th>\n",
       "      <th>away_team_api_id</th>\n",
       "      <th>B365H</th>\n",
       "      <th>B365D</th>\n",
       "      <th>B365A</th>\n",
       "      <th>entropy</th>\n",
       "    </tr>\n",
       "  </thead>\n",
       "  <tbody>\n",
       "    <tr>\n",
       "      <th>1728</th>\n",
       "      <td> 1729</td>\n",
       "      <td> 1729</td>\n",
       "      <td> 1729</td>\n",
       "      <td> 2008/2009</td>\n",
       "      <td> 1</td>\n",
       "      <td> 2008-08-17 00:00:00</td>\n",
       "      <td> 489042</td>\n",
       "      <td> 10260</td>\n",
       "      <td> 10261</td>\n",
       "      <td> 1.29</td>\n",
       "      <td> 5.5</td>\n",
       "      <td> 11.00</td>\n",
       "      <td> 0.738980</td>\n",
       "    </tr>\n",
       "    <tr>\n",
       "      <th>1730</th>\n",
       "      <td> 1731</td>\n",
       "      <td> 1729</td>\n",
       "      <td> 1729</td>\n",
       "      <td> 2008/2009</td>\n",
       "      <td> 1</td>\n",
       "      <td> 2008-08-16 00:00:00</td>\n",
       "      <td> 489044</td>\n",
       "      <td>  8472</td>\n",
       "      <td>  8650</td>\n",
       "      <td> 5.50</td>\n",
       "      <td> 3.6</td>\n",
       "      <td>  1.67</td>\n",
       "      <td> 0.975928</td>\n",
       "    </tr>\n",
       "  </tbody>\n",
       "</table>\n",
       "</div>"
      ],
      "text/plain": [
       "        id  country_id  league_id     season  stage                 date  \\\n",
       "1728  1729        1729       1729  2008/2009      1  2008-08-17 00:00:00   \n",
       "1730  1731        1729       1729  2008/2009      1  2008-08-16 00:00:00   \n",
       "\n",
       "      match_api_id  home_team_api_id  away_team_api_id  B365H  B365D  B365A  \\\n",
       "1728        489042             10260             10261   1.29    5.5  11.00   \n",
       "1730        489044              8472              8650   5.50    3.6   1.67   \n",
       "\n",
       "       entropy  \n",
       "1728  0.738980  \n",
       "1730  0.975928  "
      ]
     },
     "execution_count": 42,
     "metadata": {},
     "output_type": "execute_result"
    }
   ],
   "source": [
    "matches.head(2)"
   ]
  },
  {
   "cell_type": "code",
   "execution_count": 19,
   "metadata": {
    "collapsed": false
   },
   "outputs": [],
   "source": [
    "# Compute mean entropy for every league for every season.\n",
    "entropy_means = matches.groupby(('league_id', 'season')).entropy.mean()"
   ]
  },
  {
   "cell_type": "code",
   "execution_count": 20,
   "metadata": {
    "collapsed": false
   },
   "outputs": [
    {
     "data": {
      "text/html": [
       "<div style=\"max-height:1000px;max-width:1500px;overflow:auto;\">\n",
       "<table border=\"1\" class=\"dataframe\">\n",
       "  <thead>\n",
       "    <tr style=\"text-align: right;\">\n",
       "      <th></th>\n",
       "      <th>England</th>\n",
       "      <th>France</th>\n",
       "      <th>Germany</th>\n",
       "      <th>Italy</th>\n",
       "      <th>Spain</th>\n",
       "    </tr>\n",
       "    <tr>\n",
       "      <th>season</th>\n",
       "      <th></th>\n",
       "      <th></th>\n",
       "      <th></th>\n",
       "      <th></th>\n",
       "      <th></th>\n",
       "    </tr>\n",
       "  </thead>\n",
       "  <tbody>\n",
       "    <tr>\n",
       "      <th>2008/2009</th>\n",
       "      <td> 0.985462</td>\n",
       "      <td> 1.026528</td>\n",
       "      <td> 1.004476</td>\n",
       "      <td> 1.002100</td>\n",
       "      <td> 1.010734</td>\n",
       "    </tr>\n",
       "    <tr>\n",
       "      <th>2009/2010</th>\n",
       "      <td> 0.956445</td>\n",
       "      <td> 1.013726</td>\n",
       "      <td> 0.997749</td>\n",
       "      <td> 1.006562</td>\n",
       "      <td> 0.978531</td>\n",
       "    </tr>\n",
       "    <tr>\n",
       "      <th>2010/2011</th>\n",
       "      <td> 0.983073</td>\n",
       "      <td> 1.026196</td>\n",
       "      <td> 1.016482</td>\n",
       "      <td> 1.006734</td>\n",
       "      <td> 0.974721</td>\n",
       "    </tr>\n",
       "    <tr>\n",
       "      <th>2011/2012</th>\n",
       "      <td> 0.970060</td>\n",
       "      <td> 1.024725</td>\n",
       "      <td> 1.001488</td>\n",
       "      <td> 1.003185</td>\n",
       "      <td> 0.954997</td>\n",
       "    </tr>\n",
       "    <tr>\n",
       "      <th>2012/2013</th>\n",
       "      <td> 0.981854</td>\n",
       "      <td> 1.016093</td>\n",
       "      <td> 0.994724</td>\n",
       "      <td> 1.003405</td>\n",
       "      <td> 0.970283</td>\n",
       "    </tr>\n",
       "    <tr>\n",
       "      <th>2013/2014</th>\n",
       "      <td> 0.960774</td>\n",
       "      <td> 1.004431</td>\n",
       "      <td> 0.978929</td>\n",
       "      <td> 0.992938</td>\n",
       "      <td> 0.944064</td>\n",
       "    </tr>\n",
       "    <tr>\n",
       "      <th>2014/2015</th>\n",
       "      <td> 0.981162</td>\n",
       "      <td> 1.013026</td>\n",
       "      <td> 0.986681</td>\n",
       "      <td> 0.999356</td>\n",
       "      <td> 0.933217</td>\n",
       "    </tr>\n",
       "    <tr>\n",
       "      <th>2015/2016</th>\n",
       "      <td> 0.997686</td>\n",
       "      <td> 1.014130</td>\n",
       "      <td> 0.976424</td>\n",
       "      <td> 0.985519</td>\n",
       "      <td> 0.946479</td>\n",
       "    </tr>\n",
       "  </tbody>\n",
       "</table>\n",
       "</div>"
      ],
      "text/plain": [
       "            England    France   Germany     Italy     Spain\n",
       "season                                                     \n",
       "2008/2009  0.985462  1.026528  1.004476  1.002100  1.010734\n",
       "2009/2010  0.956445  1.013726  0.997749  1.006562  0.978531\n",
       "2010/2011  0.983073  1.026196  1.016482  1.006734  0.974721\n",
       "2011/2012  0.970060  1.024725  1.001488  1.003185  0.954997\n",
       "2012/2013  0.981854  1.016093  0.994724  1.003405  0.970283\n",
       "2013/2014  0.960774  1.004431  0.978929  0.992938  0.944064\n",
       "2014/2015  0.981162  1.013026  0.986681  0.999356  0.933217\n",
       "2015/2016  0.997686  1.014130  0.976424  0.985519  0.946479"
      ]
     },
     "execution_count": 20,
     "metadata": {},
     "output_type": "execute_result"
    }
   ],
   "source": [
    "# Transpose the table so that season is the index.\n",
    "entropy_means = entropy_means.reset_index().pivot(index='season', columns='league_id', values='entropy')\n",
    "\n",
    "# Change league id to its name.\n",
    "entropy_means.columns = [leagues[leagues.id==x].name.values[0] for x in entropy_means.columns]\n",
    "\n",
    "entropy_means"
   ]
  },
  {
   "cell_type": "code",
   "execution_count": 88,
   "metadata": {
    "collapsed": false
   },
   "outputs": [
    {
     "data": {
      "text/plain": [
       "England    0.977064\n",
       "France     1.017357\n",
       "Germany    0.994619\n",
       "Italy      0.999975\n",
       "Spain      0.964128\n",
       "dtype: float64"
      ]
     },
     "execution_count": 88,
     "metadata": {},
     "output_type": "execute_result"
    }
   ],
   "source": [
    "entropy_means.mean()"
   ]
  },
  {
   "cell_type": "markdown",
   "metadata": {},
   "source": [
    "## Visualizations"
   ]
  },
  {
   "cell_type": "code",
   "execution_count": 54,
   "metadata": {
    "collapsed": false
   },
   "outputs": [
    {
     "data": {
      "text/plain": [
       "<matplotlib.text.Annotation at 0x41c795c0>"
      ]
     },
     "execution_count": 54,
     "metadata": {},
     "output_type": "execute_result"
    },
    {
     "data": {
      "image/png": "[encoded data removed]",
      "text/plain": [
       "<matplotlib.figure.Figure at 0x43ad3470>"
      ]
     },
     "metadata": {},
     "output_type": "display_data"
    }
   ],
   "source": [
    "# Plot scatterplot.\n",
    "ax = entropy_means.plot(figsize=(12,8), marker='o')\n",
    "\n",
    "# Set title.\n",
    "plt.title('Predictability of Leagues', fontsize=32)\n",
    "\n",
    "# Set ticks roatation.\n",
    "plt.xticks(rotation=50)\n",
    "\n",
    "# Store color-league map for next graph.\n",
    "colors = [x.get_color() for x in ax.get_lines()]\n",
    "colors_mapping = dict(zip(leagues.id, colors))\n",
    "\n",
    "# Remove x label.\n",
    "ax.set_xlabel('')\n",
    "\n",
    "# Locate legend.\n",
    "plt.legend(loc='lower left')\n",
    "\n",
    "# Add arrows.\n",
    "ax.annotate('', xytext=(7.2, 1),xy=(7.2, 1.039),\n",
    "            arrowprops=dict(facecolor='black', arrowstyle=\"->, head_length=.7, head_width=.3\", \n",
    "                            linewidth=1), annotation_clip=False)\n",
    "\n",
    "ax.annotate('', xytext=(7.2, 0.96),xy=(7.2, 0.921),\n",
    "            arrowprops=dict(facecolor='black', arrowstyle=\"->, head_length=.7, head_width=.3\",\n",
    "                            linewidth=1), annotation_clip=False)\n",
    "\n",
    "ax.annotate('less predictable', xy=(7.3, 1.028), annotation_clip=False, fontsize=14, rotation='vertical')\n",
    "ax.annotate('more predictable', xy=(7.3, 0.952), annotation_clip=False, fontsize=14, rotation='vertical')"
   ]
  },
  {
   "cell_type": "markdown",
   "metadata": {},
   "source": [
    "The Spanish league has been the most predictable league for the past 6 seasons. This trend looks likely to continue as the Spanish, Italian, French and German leagues are all trending downwards. The English league on the other hand has gone from the 2nd most predictable to the 2nd least predictable within the space of just two seasons. To better understand these patterns, it is neccessary to drill down into the entropy of individual teams."
   ]
  },
  {
   "cell_type": "code",
   "execution_count": 25,
   "metadata": {
    "collapsed": false
   },
   "outputs": [],
   "source": [
    "# Initialize arrays for df cols.\n",
    "season_col = []\n",
    "league_col = []\n",
    "team_col = []\n",
    "entropy_col = []\n",
    "\n",
    "# Aggregate the matches by season.\n",
    "for season, season_df in matches.groupby('season'):\n",
    "\n",
    "    # For each team, get every match in which it is the home or away team.\n",
    "    for team_id, team_name in zip(teams.team_api_id, teams.team_long_name):\n",
    "        team_df = season_df[(season_df.home_team_api_id==team_id) | (season_df.away_team_api_id==team_id)]\n",
    "        \n",
    "        # Skip if the team isn't in the df for the 5 leagues.\n",
    "        if team_df.empty:\n",
    "            continue\n",
    "            \n",
    "        # Get the mean of entropy of the games that team was in.\n",
    "        team_entropy = team_df.entropy.mean()\n",
    "        \n",
    "        # Get the league name.\n",
    "        league_id = team_df.league_id.values[0]\n",
    "        league_name = leagues[leagues.id == league_id].name.values[0]\n",
    "        \n",
    "        # Add values to the df cols.\n",
    "        season_col.append(season)\n",
    "        league_col.append(league_name)\n",
    "        team_col.append(team_name)\n",
    "        entropy_col.append(team_entropy)"
   ]
  },
  {
   "cell_type": "code",
   "execution_count": 44,
   "metadata": {
    "collapsed": false
   },
   "outputs": [
    {
     "data": {
      "text/html": [
       "<div style=\"max-height:1000px;max-width:1500px;overflow:auto;\">\n",
       "<table border=\"1\" class=\"dataframe\">\n",
       "  <thead>\n",
       "    <tr style=\"text-align: right;\">\n",
       "      <th></th>\n",
       "      <th>Season</th>\n",
       "      <th>League</th>\n",
       "      <th>Team</th>\n",
       "      <th>Entropy</th>\n",
       "    </tr>\n",
       "  </thead>\n",
       "  <tbody>\n",
       "    <tr>\n",
       "      <th>0</th>\n",
       "      <td> 2008/2009</td>\n",
       "      <td> England</td>\n",
       "      <td> Manchester United</td>\n",
       "      <td> 0.843126</td>\n",
       "    </tr>\n",
       "    <tr>\n",
       "      <th>1</th>\n",
       "      <td> 2008/2009</td>\n",
       "      <td> England</td>\n",
       "      <td>  Newcastle United</td>\n",
       "      <td> 1.014772</td>\n",
       "    </tr>\n",
       "    <tr>\n",
       "      <th>2</th>\n",
       "      <td> 2008/2009</td>\n",
       "      <td> England</td>\n",
       "      <td>           Arsenal</td>\n",
       "      <td> 0.936522</td>\n",
       "    </tr>\n",
       "  </tbody>\n",
       "</table>\n",
       "</div>"
      ],
      "text/plain": [
       "      Season   League               Team   Entropy\n",
       "0  2008/2009  England  Manchester United  0.843126\n",
       "1  2008/2009  England   Newcastle United  1.014772\n",
       "2  2008/2009  England            Arsenal  0.936522"
      ]
     },
     "execution_count": 44,
     "metadata": {},
     "output_type": "execute_result"
    }
   ],
   "source": [
    "# Create the dataframe.\n",
    "data = {'Season': season_col,\n",
    "        'League': league_col,\n",
    "        'Team': team_col,\n",
    "        'Entropy': entropy_col}\n",
    "\n",
    "df = pd.DataFrame(data, columns=['Season', 'League', 'Team', 'Entropy'])\n",
    "df.head(3)"
   ]
  },
  {
   "cell_type": "code",
   "execution_count": 27,
   "metadata": {
    "collapsed": false
   },
   "outputs": [],
   "source": [
    "# Lists of unique seasons and leagues.\n",
    "seasons_list = df.Season.unique()\n",
    "leagues_list = df.League.unique()\n",
    "\n",
    "# Offsets for x coords, centered on season line.\n",
    "offsets = [-0.2,-0.1,0,0.1,0.2]\n",
    "\n",
    "# Dicts to map out x coords.\n",
    "seasons_dict = dict(zip(seasons_list, range(len(seasons_list))))\n",
    "leagues_dict = dict(zip(leagues_list, offsets))"
   ]
  },
  {
   "cell_type": "code",
   "execution_count": 46,
   "metadata": {
    "collapsed": true
   },
   "outputs": [],
   "source": [
    "def makeXCoord(row):\n",
    "    \"\"\"\n",
    "    Takes in row and determines the X coordinate based on season and league.\n",
    "    \"\"\"\n",
    "    \n",
    "    # Get the X values for the season and league.\n",
    "    season = seasons_dict[row.Season]\n",
    "    offset = leagues_dict[row.League]\n",
    "    \n",
    "    # Add the values.\n",
    "    X = season + offset\n",
    "    \n",
    "    return X"
   ]
  },
  {
   "cell_type": "code",
   "execution_count": 47,
   "metadata": {
    "collapsed": true
   },
   "outputs": [],
   "source": [
    "def makeColour(row):\n",
    "    \"\"\"\n",
    "    Takes in row and determines the colour from the past plot.\n",
    "    \"\"\"\n",
    "    \n",
    "    # Get the league name and then the league id.\n",
    "    league_name = row.League\n",
    "    league_id = leagues[leagues.name == league_name].id.unique()[0]\n",
    "\n",
    "    # Look up the colour dict.\n",
    "    color = colors_mapping[league_id]\n",
    "\n",
    "    return color"
   ]
  },
  {
   "cell_type": "code",
   "execution_count": 48,
   "metadata": {
    "collapsed": false
   },
   "outputs": [],
   "source": [
    "df['X'] = df.apply(makeXCoord, axis=1)\n",
    "df['Colour'] = df.apply(makeColour, axis=1)"
   ]
  },
  {
   "cell_type": "code",
   "execution_count": 49,
   "metadata": {
    "collapsed": false
   },
   "outputs": [
    {
     "data": {
      "text/html": [
       "<div style=\"max-height:1000px;max-width:1500px;overflow:auto;\">\n",
       "<table border=\"1\" class=\"dataframe\">\n",
       "  <thead>\n",
       "    <tr style=\"text-align: right;\">\n",
       "      <th></th>\n",
       "      <th>Season</th>\n",
       "      <th>League</th>\n",
       "      <th>Team</th>\n",
       "      <th>Entropy</th>\n",
       "      <th>X</th>\n",
       "      <th>Colour</th>\n",
       "    </tr>\n",
       "  </thead>\n",
       "  <tbody>\n",
       "    <tr>\n",
       "      <th>0</th>\n",
       "      <td> 2008/2009</td>\n",
       "      <td> England</td>\n",
       "      <td> Manchester United</td>\n",
       "      <td> 0.843126</td>\n",
       "      <td>-0.2</td>\n",
       "      <td> (0.298039215686, 0.447058823529, 0.690196078431)</td>\n",
       "    </tr>\n",
       "    <tr>\n",
       "      <th>1</th>\n",
       "      <td> 2008/2009</td>\n",
       "      <td> England</td>\n",
       "      <td>  Newcastle United</td>\n",
       "      <td> 1.014772</td>\n",
       "      <td>-0.2</td>\n",
       "      <td> (0.298039215686, 0.447058823529, 0.690196078431)</td>\n",
       "    </tr>\n",
       "    <tr>\n",
       "      <th>2</th>\n",
       "      <td> 2008/2009</td>\n",
       "      <td> England</td>\n",
       "      <td>           Arsenal</td>\n",
       "      <td> 0.936522</td>\n",
       "      <td>-0.2</td>\n",
       "      <td> (0.298039215686, 0.447058823529, 0.690196078431)</td>\n",
       "    </tr>\n",
       "  </tbody>\n",
       "</table>\n",
       "</div>"
      ],
      "text/plain": [
       "      Season   League               Team   Entropy    X  \\\n",
       "0  2008/2009  England  Manchester United  0.843126 -0.2   \n",
       "1  2008/2009  England   Newcastle United  1.014772 -0.2   \n",
       "2  2008/2009  England            Arsenal  0.936522 -0.2   \n",
       "\n",
       "                                             Colour  \n",
       "0  (0.298039215686, 0.447058823529, 0.690196078431)  \n",
       "1  (0.298039215686, 0.447058823529, 0.690196078431)  \n",
       "2  (0.298039215686, 0.447058823529, 0.690196078431)  "
      ]
     },
     "execution_count": 49,
     "metadata": {},
     "output_type": "execute_result"
    }
   ],
   "source": [
    "df.head(3)"
   ]
  },
  {
   "cell_type": "code",
   "execution_count": 87,
   "metadata": {
    "collapsed": false
   },
   "outputs": [
    {
     "data": {
      "text/plain": [
       "<matplotlib.text.Annotation at 0x472f6470>"
      ]
     },
     "execution_count": 87,
     "metadata": {},
     "output_type": "execute_result"
    },
    {
     "data": {
      "image/png": "[encoded data removed]",
      "text/plain": [
       "<matplotlib.figure.Figure at 0x4716ba20>"
      ]
     },
     "metadata": {},
     "output_type": "display_data"
    }
   ],
   "source": [
    "# Plot scatterplot.\n",
    "plt.figure(figsize=(16, 8))\n",
    "plt.scatter(df.X, df.Entropy, c=list(df.Colour), s=50, alpha=.75)\n",
    "plt.title('Predictability of Teams', fontsize=32)\n",
    "\n",
    "# Create ticks and labels.\n",
    "ax = plt.gca()\n",
    "plt.xlim((-0.5, 7.5))\n",
    "plt.xticks(np.arange(0,8,1), rotation=50)\n",
    "\n",
    "# Create grid.\n",
    "ax.set_xticklabels(seasons_list, fontsize=12)\n",
    "\n",
    "# Create dashline to separate seasons.\n",
    "for i in range(7):\n",
    "    ax.axvline(x=0.5+i, ls='--', c='w')\n",
    "\n",
    "# Turn off grids.\n",
    "ax.yaxis.grid(False)\n",
    "ax.xaxis.grid(False)\n",
    "\n",
    "# Create legend.\n",
    "circles = []\n",
    "labels = []\n",
    "for league_id, name in zip(leagues.id, leagues.name):\n",
    "    labels.append(name)\n",
    "    circles.append(Line2D([0], [0], linestyle=\"none\", marker=\"o\", markersize=7, markerfacecolor=colors_mapping[league_id]))\n",
    "plt.legend(circles, labels, numpoints=3, loc=(0.005,0.02))\n",
    "\n",
    "# Add arrows.\n",
    "ax.annotate('', xytext=(7.6, 0.92), xy=(7.6, 1.05),\n",
    "            arrowprops=dict(facecolor='black', arrowstyle=\"->, head_length=.7, head_width=.3\", \n",
    "                            linewidth=1), annotation_clip=False)\n",
    "\n",
    "ax.annotate('', xytext=(7.6, 0.78),xy=(7.6, 0.65),\n",
    "            arrowprops=dict(facecolor='black', arrowstyle=\"->, head_length=.7, head_width=.3\",\n",
    "                            linewidth=1), annotation_clip=False)\n",
    "\n",
    "ax.annotate('less predictable', xy=(7.7, 1.028), annotation_clip=False, fontsize=14, rotation='vertical')\n",
    "ax.annotate('more predictable', xy=(7.7, 0.770), annotation_clip=False, fontsize=14, rotation='vertical')"
   ]
  },
  {
   "cell_type": "markdown",
   "metadata": {},
   "source": [
    "Looking at the English teams, for the first four seasons there were a group of three or four teams with more entropy than the others. This separation soon became less and less as seasons passed.\n",
    "\n",
    "On the other hand Spain has always had two teams distinct from the others. These two are most likely Barcelona and Real Madrid who have had a monopoly-like effect on the league. Similarly Germany has always had one team in front, with a second team nearby, and the rest lagging way behind. It would make sense for these two teams to be Bayern Munich and Borussia Dortmund respectively.\n",
    "\n",
    "In order to verify these claims and make a more compelling graph I will recreate this plot in d3."
   ]
  },
  {
   "cell_type": "markdown",
   "metadata": {},
   "source": [
    "## Exporting the data"
   ]
  },
  {
   "cell_type": "code",
   "execution_count": 62,
   "metadata": {
    "collapsed": false
   },
   "outputs": [],
   "source": [
    "df.to_csv('../Data/teams_entropy.csv')"
   ]
  },
  {
   "cell_type": "code",
   "execution_count": 63,
   "metadata": {
    "collapsed": false
   },
   "outputs": [],
   "source": [
    "entropy_means.to_csv('../Data/leagues_entropy.csv')"
   ]
  }
 ],
 "metadata": {
  "kernelspec": {
   "display_name": "Python 2",
   "language": "python",
   "name": "python2"
  },
  "language_info": {
   "codemirror_mode": {
    "name": "ipython",
    "version": 2
   },
   "file_extension": ".py",
   "mimetype": "text/x-python",
   "name": "python",
   "nbconvert_exporter": "python",
   "pygments_lexer": "ipython2",
   "version": "2.7.11"
  }
 },
 "nbformat": 4,
 "nbformat_minor": 0
}
